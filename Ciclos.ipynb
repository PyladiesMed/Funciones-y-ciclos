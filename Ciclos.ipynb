{
 "cells": [
  {
   "cell_type": "markdown",
   "metadata": {},
   "source": [
    "## CONDICIONALES\n",
    "\n",
    "Los condicionales nos permiten comprobar condiciones y hacer que nuestro programa ejecute un fragmento de código u otro, dependiendo de esta condición. "
   ]
  },
  {
   "cell_type": "markdown",
   "metadata": {},
   "source": [
    "### ONE WAY DECISIONS"
   ]
  },
  {
   "cell_type": "code",
   "execution_count": 4,
   "metadata": {},
   "outputs": [
    {
     "name": "stdout",
     "output_type": "stream",
     "text": [
      "Cuál es la estacion?otoño\n"
     ]
    }
   ],
   "source": [
    "estacion = input(\"Cuál es la estacion?\")\n",
    "\n",
    "if estacion.lower() == 'verano' :\n",
    "    print(\"voy a la playa\")"
   ]
  },
  {
   "cell_type": "code",
   "execution_count": 7,
   "metadata": {},
   "outputs": [],
   "source": [
    "numb = 7\n",
    "if numb % 2 == 0:\n",
    "    print (\"es un numero par\")"
   ]
  },
  {
   "cell_type": "markdown",
   "metadata": {},
   "source": [
    "### TWO WAY DECISIONS"
   ]
  },
  {
   "cell_type": "code",
   "execution_count": 9,
   "metadata": {},
   "outputs": [
    {
     "name": "stdout",
     "output_type": "stream",
     "text": [
      "Cuál es la estacion?verano\n",
      "voy a la playa\n"
     ]
    }
   ],
   "source": [
    "estacion = input(\"Cuál es la estacion?\")\n",
    "\n",
    "if estacion.lower() == 'verano' :\n",
    "    print(\"voy a la playa\")\n",
    "    \n",
    "else :\n",
    "    print(\"me quedo en la casa\")"
   ]
  },
  {
   "cell_type": "code",
   "execution_count": 10,
   "metadata": {},
   "outputs": [
    {
     "name": "stdout",
     "output_type": "stream",
     "text": [
      "es un numero primo\n"
     ]
    }
   ],
   "source": [
    "### if else\n",
    "\n",
    "#si numb modulo 2 es igual a cero entonces:\n",
    "if numb % 2 == 0:\n",
    "    print(\"es un numero par\")\n",
    "    \n",
    "# de lo contrario entonces:\n",
    "else :\n",
    "    print(\"es un numero primo\")"
   ]
  },
  {
   "cell_type": "markdown",
   "metadata": {},
   "source": [
    "### MULTI WAY DECISIONS"
   ]
  },
  {
   "cell_type": "code",
   "execution_count": null,
   "metadata": {},
   "outputs": [],
   "source": [
    "estacion= input(\"Cuál es la estacion?\")\n",
    "\n",
    "if estacion.lower() == 'verano' :\n",
    "    print(\"voy a la playa\")\n",
    "    \n",
    "elif estacion.lower() == 'invierno':\n",
    "    print(\"me voy a esquiar\")\n",
    "    \n",
    "else:\n",
    "    print(\"me quedo en la casa\")"
   ]
  },
  {
   "cell_type": "code",
   "execution_count": 8,
   "metadata": {},
   "outputs": [
    {
     "name": "stdout",
     "output_type": "stream",
     "text": [
      "Positivo\n"
     ]
    }
   ],
   "source": [
    "### if elif else\n",
    "\n",
    "#si numb es menor a cero entonces:\n",
    "if numb < 0:    \n",
    "    print (\"Negativo\")\n",
    "# si no, si numb es mayor a cero entonces:   \n",
    "elif numb > 0:   \n",
    "    print (\"Positivo\")\n",
    "# de lo contrario    \n",
    "else:    \n",
    "    print (\"Cero\")"
   ]
  },
  {
   "cell_type": "markdown",
   "metadata": {},
   "source": [
    "### ¿cómo es la lógica?\n",
    "\n",
    "1. Se evalúa la condición del if. Si es cierta, se ejecuta su código y se continúa ejecutando el código posterior.\n",
    "2. Si no se cumple 1 , se evalúa la condición del elif. Si se cumple la condición del elif se ejecuta su código y se continua ejecutando el código posterior al condicional.\n",
    "3. Si no se cumple 1 ó 2 y hay más de un elif se continúa con el siguiente en orden de aparición. \n",
    "4. Si no se cumple la condición del if ni de ninguno de los elif, se ejecuta el código del else. "
   ]
  },
  {
   "cell_type": "markdown",
   "metadata": {},
   "source": [
    "## CICLOS\n",
    "\n",
    "Mientras que los condicionales nos permiten ejecutar distintos fragmentos de código dependiendo de ciertas condiciones, los bucles nos permiten ejecutar un mismo fragmento de código un cierto número de veces, mientras se cumpla una determinada condición. "
   ]
  },
  {
   "cell_type": "markdown",
   "metadata": {},
   "source": [
    "### FOR"
   ]
  },
  {
   "cell_type": "code",
   "execution_count": 12,
   "metadata": {},
   "outputs": [
    {
     "name": "stdout",
     "output_type": "stream",
     "text": [
      "metric 0.0 m/sec\n"
     ]
    }
   ],
   "source": [
    "# la forma aburiiiida de hacerlo\n",
    "\n",
    "velocities = [0.0,9.81,19.62,29.43]\n",
    "\n",
    "print('metric', velocities[0], 'm/sec')"
   ]
  },
  {
   "cell_type": "code",
   "execution_count": 13,
   "metadata": {},
   "outputs": [
    {
     "name": "stdout",
     "output_type": "stream",
     "text": [
      "metric 0.0 m/sec\n",
      "metric 9.81 m/sec\n",
      "metric 19.62 m/sec\n",
      "metric 29.43 m/sec\n"
     ]
    }
   ],
   "source": [
    "# la forma cool de hacerlo\n",
    "\n",
    "for velocity in velocities:\n",
    "    print('metric', velocity, 'm/sec')"
   ]
  },
  {
   "cell_type": "code",
   "execution_count": 14,
   "metadata": {},
   "outputs": [
    {
     "data": {
      "text/plain": [
       "29.43"
      ]
     },
     "execution_count": 14,
     "metadata": {},
     "output_type": "execute_result"
    }
   ],
   "source": [
    "velocity"
   ]
  },
  {
   "cell_type": "code",
   "execution_count": 15,
   "metadata": {},
   "outputs": [
    {
     "name": "stdout",
     "output_type": "stream",
     "text": [
      "C\n"
     ]
    }
   ],
   "source": [
    "# Procesando caracteres en strings\n",
    "\n",
    "country = 'Colombia'\n",
    "\n",
    "for ch in country:\n",
    "    if ch.isupper():\n",
    "        print(ch)"
   ]
  },
  {
   "cell_type": "code",
   "execution_count": 33,
   "metadata": {},
   "outputs": [
    {
     "name": "stdout",
     "output_type": "stream",
     "text": [
      "5050\n"
     ]
    }
   ],
   "source": [
    "# Ciclos sobre un rango\n",
    "\n",
    "total = 0\n",
    "\n",
    "for i in range(0,101):\n",
    "    total+= i\n",
    "    \n",
    "print(total)"
   ]
  },
  {
   "cell_type": "code",
   "execution_count": null,
   "metadata": {},
   "outputs": [],
   "source": [
    "# Procesando listas usando indices"
   ]
  },
  {
   "cell_type": "code",
   "execution_count": null,
   "metadata": {},
   "outputs": [],
   "source": [
    "# Quiero modificar mi lista, duplicando cada valor ¿Qué hago?"
   ]
  },
  {
   "cell_type": "code",
   "execution_count": 34,
   "metadata": {},
   "outputs": [
    {
     "name": "stdout",
     "output_type": "stream",
     "text": [
      "[8, 20, 6, 16, -12]\n"
     ]
    }
   ],
   "source": [
    "values = [4,10,3,8,-6]\n",
    "\n",
    "for i in range(len(values)):\n",
    "    values[i] = values[i]*2\n",
    "    \n",
    "print(values)"
   ]
  },
  {
   "cell_type": "markdown",
   "metadata": {},
   "source": [
    "#### ¿Cuántas iteraciones se realizan?"
   ]
  },
  {
   "cell_type": "code",
   "execution_count": 16,
   "metadata": {},
   "outputs": [
    {
     "name": "stdout",
     "output_type": "stream",
     "text": [
      "soft kitty\n",
      "warm kitty\n",
      "little ball of fur\n",
      "soft puppy\n",
      "warm puppy\n",
      "little ball of fur\n",
      "soft rat\n",
      "warm rat\n",
      "little ball of fur\n"
     ]
    }
   ],
   "source": [
    "# for anidados\n",
    "\n",
    "adj = ['soft', 'warm']\n",
    "animals = ['kitty','puppy', 'rat']\n",
    "\n",
    "for i in animals:\n",
    "    for j in adj:\n",
    "        print(j +\" \"+ i)\n",
    "    print(\"little ball of fur\")"
   ]
  },
  {
   "cell_type": "code",
   "execution_count": 36,
   "metadata": {},
   "outputs": [],
   "source": [
    "# Creemos una función para calcular las tablas de multiplicar\n",
    "\n",
    "def tabla_multiplicar(n):\n",
    "    numbers = list(range(1,n+1))\n",
    "    \n",
    "    for i in numbers:\n",
    "        print('\\t'+str(i), end='')\n",
    "    print()\n",
    "    \n",
    "    for i in  numbers:\n",
    "        print(i, end='')\n",
    "        for j in numbers:\n",
    "            print('\\t'+str(i*j), end='')\n",
    "        print()"
   ]
  },
  {
   "cell_type": "code",
   "execution_count": 38,
   "metadata": {},
   "outputs": [
    {
     "name": "stdout",
     "output_type": "stream",
     "text": [
      "\t1\t2\t3\t4\t5\n",
      "1\t1\t2\t3\t4\t5\n",
      "2\t2\t4\t6\t8\t10\n",
      "3\t3\t6\t9\t12\t15\n",
      "4\t4\t8\t12\t16\t20\n",
      "5\t5\t10\t15\t20\t25\n"
     ]
    }
   ],
   "source": [
    "tabla_multiplicar(5)"
   ]
  },
  {
   "cell_type": "markdown",
   "metadata": {},
   "source": [
    "### WHILE\n",
    "Ejecuta un fragmento de código mientras se cumpla una condición."
   ]
  },
  {
   "cell_type": "code",
   "execution_count": 17,
   "metadata": {},
   "outputs": [
    {
     "name": "stdout",
     "output_type": "stream",
     "text": [
      "3\n",
      "2\n",
      "1\n"
     ]
    }
   ],
   "source": [
    "rabbits = 3\n",
    "\n",
    "while rabbits > 0:\n",
    "    print(rabbits)\n",
    "    rabbits = rabbits -1\n"
   ]
  },
  {
   "cell_type": "code",
   "execution_count": 19,
   "metadata": {},
   "outputs": [
    {
     "name": "stdout",
     "output_type": "stream",
     "text": [
      "1210\n",
      "1464\n",
      "1772\n",
      "2144\n",
      "It took 4 minutes for bacteria to double\n",
      "The final population was 2144 bacteria\n"
     ]
    }
   ],
   "source": [
    "# cuánto tiempo les tomara a esta colonia de bacterias doblar su tamaño?\n",
    "\n",
    "time = 0\n",
    "growth_rate = 0.21\n",
    "population = 1000\n",
    "\n",
    "while population < 2000:\n",
    "    population += population * growth_rate\n",
    "    print(round(population))\n",
    "    time += 1\n",
    "\n",
    "print('It took',time,'minutes for bacteria to double')\n",
    "print('The final population was',round(population),'bacteria')"
   ]
  },
  {
   "cell_type": "code",
   "execution_count": null,
   "metadata": {},
   "outputs": [],
   "source": [
    "#### loops infinitos"
   ]
  },
  {
   "cell_type": "markdown",
   "metadata": {},
   "source": [
    "#### Break\n",
    "La palabra clave break (romper) sale del bucle en el que estamos. "
   ]
  },
  {
   "cell_type": "code",
   "execution_count": 24,
   "metadata": {},
   "outputs": [
    {
     "data": {
      "text/plain": [
       "2"
      ]
     },
     "execution_count": 24,
     "metadata": {},
     "output_type": "execute_result"
    }
   ],
   "source": [
    "#### necesito sacar el indice de el primer dígito en una cadena de texto\n",
    "\n",
    "s = 'SH4U4'\n",
    "digit_index = -1\n",
    "\n",
    "for i in range(len(s)):\n",
    "\n",
    "    if s[i].isdigit():\n",
    "        digit_index = i\n",
    "        break\n",
    "        \n",
    "digit_index"
   ]
  },
  {
   "cell_type": "markdown",
   "metadata": {},
   "source": [
    "#### Continue\n",
    "Pasar directamente a la siguiente iteración del bucle"
   ]
  },
  {
   "cell_type": "code",
   "execution_count": 25,
   "metadata": {},
   "outputs": [
    {
     "name": "stdout",
     "output_type": "stream",
     "text": [
      "8\n",
      "2\n"
     ]
    }
   ],
   "source": [
    "#### \n",
    "\n",
    "s = 'SH4U4'\n",
    "\n",
    "total, count = 0, 0\n",
    "\n",
    "for i in range(len(s)):\n",
    "    if s[i].isalpha():\n",
    "        continue\n",
    "    total += int(s[i])\n",
    "    count += 1 \n",
    "\n",
    "\n",
    "print(total)\n",
    "print(count)"
   ]
  },
  {
   "cell_type": "code",
   "execution_count": 39,
   "metadata": {},
   "outputs": [
    {
     "name": "stdout",
     "output_type": "stream",
     "text": [
      "This program started on Sun May 17 17:14:17 2020\n"
     ]
    }
   ],
   "source": [
    "import webbrowser \n",
    "import time\n",
    "\n",
    "def take_break(total_break, break_count):\n",
    "    print(\"This program started on \" + time.ctime())\n",
    "    while (break_count < total_break):\n",
    "        time.sleep(10)\n",
    "        webbrowser.open(url)\n",
    "        break_count = break_count + 1\n",
    "        \n",
    "    \n",
    "if __name__ == \"__main__\":\n",
    "    total_break = 3\n",
    "    break_count = 0\n",
    "    url = \"https://www.youtube.com/watch?v=SXcFYnHSG08\"\n",
    "    take_break(total_break, break_count)"
   ]
  },
  {
   "cell_type": "code",
   "execution_count": null,
   "metadata": {},
   "outputs": [],
   "source": []
  }
 ],
 "metadata": {
  "kernelspec": {
   "display_name": "Python 3",
   "language": "python",
   "name": "python3"
  },
  "language_info": {
   "codemirror_mode": {
    "name": "ipython",
    "version": 3
   },
   "file_extension": ".py",
   "mimetype": "text/x-python",
   "name": "python",
   "nbconvert_exporter": "python",
   "pygments_lexer": "ipython3",
   "version": "3.7.3"
  }
 },
 "nbformat": 4,
 "nbformat_minor": 2
}
